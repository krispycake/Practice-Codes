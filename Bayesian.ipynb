{
  "nbformat": 4,
  "nbformat_minor": 0,
  "metadata": {
    "colab": {
      "provenance": []
    },
    "kernelspec": {
      "name": "python3",
      "display_name": "Python 3"
    },
    "language_info": {
      "name": "python"
    }
  },
  "cells": [
    {
      "cell_type": "code",
      "execution_count": null,
      "metadata": {
        "id": "E-l-Rmo8obGe"
      },
      "outputs": [],
      "source": [
        "# Step 1: Import Libraries\n",
        "import pandas as pd\n",
        "import numpy as np\n",
        "from sklearn.model_selection import train_test_split\n",
        "from sklearn.naive_bayes import GaussianNB\n",
        "from sklearn.metrics import accuracy_score, classification_report\n",
        "import seaborn as sns\n",
        "import matplotlib.pyplot as plt\n"
      ]
    },
    {
      "cell_type": "code",
      "source": [
        "# Step 2: Prepare Data for Single Variable Example\n",
        "data_single = {\n",
        "    'Outlook': ['Rainy', 'Sunny', 'Overcast', 'Overcast', 'Sunny', 'Rainy',\n",
        "                'Sunny', 'Overcast', 'Rainy', 'Sunny', 'Sunny', 'Rainy',\n",
        "                'Overcast', 'Overcast'],\n",
        "    'Play': ['Yes', 'Yes', 'Yes', 'Yes', 'No', 'Yes', 'Yes', 'Yes',\n",
        "             'No', 'No', 'Yes', 'No', 'Yes', 'Yes']\n",
        "}\n",
        "\n",
        "df_single = pd.DataFrame(data_single)\n",
        "\n",
        "# Display the dataset\n",
        "print(\"Single Variable Data:\\n\", df_single)\n"
      ],
      "metadata": {
        "colab": {
          "base_uri": "https://localhost:8080/"
        },
        "id": "S3CNlLQUoeZ5",
        "outputId": "0247d9ef-c9a7-450a-9984-da097c94e458"
      },
      "execution_count": null,
      "outputs": [
        {
          "output_type": "stream",
          "name": "stdout",
          "text": [
            "Single Variable Data:\n",
            "      Outlook Play\n",
            "0      Rainy  Yes\n",
            "1      Sunny  Yes\n",
            "2   Overcast  Yes\n",
            "3   Overcast  Yes\n",
            "4      Sunny   No\n",
            "5      Rainy  Yes\n",
            "6      Sunny  Yes\n",
            "7   Overcast  Yes\n",
            "8      Rainy   No\n",
            "9      Sunny   No\n",
            "10     Sunny  Yes\n",
            "11     Rainy   No\n",
            "12  Overcast  Yes\n",
            "13  Overcast  Yes\n"
          ]
        }
      ]
    },
    {
      "cell_type": "code",
      "source": [
        "# Step 3: Encode Categorical Variables for Single Variable\n",
        "df_single['Outlook'] = df_single['Outlook'].astype('category').cat.codes\n",
        "df_single['Play'] = df_single['Play'].astype('category').cat.codes\n",
        "\n",
        "# Display the encoded dataset\n",
        "print(\"Encoded Single Variable Data:\\n\", df_single)\n"
      ],
      "metadata": {
        "colab": {
          "base_uri": "https://localhost:8080/"
        },
        "id": "rx8WHP5Bo_tb",
        "outputId": "bafe58ba-2863-4c90-fc72-af0eef409230"
      },
      "execution_count": null,
      "outputs": [
        {
          "output_type": "stream",
          "name": "stdout",
          "text": [
            "Encoded Single Variable Data:\n",
            "     Outlook  Play\n",
            "0         1     1\n",
            "1         2     1\n",
            "2         0     1\n",
            "3         0     1\n",
            "4         2     0\n",
            "5         1     1\n",
            "6         2     1\n",
            "7         0     1\n",
            "8         1     0\n",
            "9         2     0\n",
            "10        2     1\n",
            "11        1     0\n",
            "12        0     1\n",
            "13        0     1\n"
          ]
        }
      ]
    },
    {
      "cell_type": "code",
      "source": [],
      "metadata": {
        "id": "q5UI0d1No_vz"
      },
      "execution_count": null,
      "outputs": []
    },
    {
      "cell_type": "code",
      "source": [
        "# Step 4: Train and Test Split for Single Variable\n",
        "X_single = df_single[['Outlook']]\n",
        "y_single = df_single['Play']\n",
        "\n",
        "X_train_single, X_test_single, y_train_single, y_test_single = train_test_split(X_single, y_single, test_size=0.2, random_state=42)\n"
      ],
      "metadata": {
        "id": "hDgAODY8o_yT"
      },
      "execution_count": null,
      "outputs": []
    },
    {
      "cell_type": "code",
      "source": [],
      "metadata": {
        "id": "v8cIM-W9oefB"
      },
      "execution_count": null,
      "outputs": []
    },
    {
      "cell_type": "code",
      "source": [
        "# Step 5: Train Naive Bayes Model for Single Variable\n",
        "model_single = GaussianNB()\n",
        "model_single.fit(X_train_single, y_train_single)\n",
        "\n",
        "# Step 6: Make Predictions\n",
        "y_pred_single = model_single.predict(X_test_single)\n",
        "\n",
        "# Step 7: Evaluate Model Performance\n",
        "accuracy_single = accuracy_score(y_test_single, y_pred_single)\n",
        "print(f\"Accuracy for Single Variable: {accuracy_single:.2f}\")\n",
        "\n",
        "# Classification report\n",
        "print(\"\\nClassification Report for Single Variable:\\n\", classification_report(y_test_single, y_pred_single))\n"
      ],
      "metadata": {
        "colab": {
          "base_uri": "https://localhost:8080/"
        },
        "id": "KaxHKMgEoehJ",
        "outputId": "faf5b8f3-88f8-4289-b41d-2994d3780e8d"
      },
      "execution_count": null,
      "outputs": [
        {
          "output_type": "stream",
          "name": "stdout",
          "text": [
            "Accuracy for Single Variable: 0.33\n",
            "\n",
            "Classification Report for Single Variable:\n",
            "               precision    recall  f1-score   support\n",
            "\n",
            "           0       0.00      0.00      0.00         2\n",
            "           1       0.33      1.00      0.50         1\n",
            "\n",
            "    accuracy                           0.33         3\n",
            "   macro avg       0.17      0.50      0.25         3\n",
            "weighted avg       0.11      0.33      0.17         3\n",
            "\n"
          ]
        },
        {
          "output_type": "stream",
          "name": "stderr",
          "text": [
            "/usr/local/lib/python3.10/dist-packages/sklearn/metrics/_classification.py:1531: UndefinedMetricWarning: Precision is ill-defined and being set to 0.0 in labels with no predicted samples. Use `zero_division` parameter to control this behavior.\n",
            "  _warn_prf(average, modifier, f\"{metric.capitalize()} is\", len(result))\n",
            "/usr/local/lib/python3.10/dist-packages/sklearn/metrics/_classification.py:1531: UndefinedMetricWarning: Precision is ill-defined and being set to 0.0 in labels with no predicted samples. Use `zero_division` parameter to control this behavior.\n",
            "  _warn_prf(average, modifier, f\"{metric.capitalize()} is\", len(result))\n",
            "/usr/local/lib/python3.10/dist-packages/sklearn/metrics/_classification.py:1531: UndefinedMetricWarning: Precision is ill-defined and being set to 0.0 in labels with no predicted samples. Use `zero_division` parameter to control this behavior.\n",
            "  _warn_prf(average, modifier, f\"{metric.capitalize()} is\", len(result))\n"
          ]
        }
      ]
    },
    {
      "cell_type": "code",
      "source": [],
      "metadata": {
        "id": "xA8mbwh2oeoJ"
      },
      "execution_count": null,
      "outputs": []
    },
    {
      "cell_type": "code",
      "source": [
        "# Step 8: Prepare Data for Two Variable Example\n",
        "data_two = {\n",
        "    'Outlook': ['Rainy', 'Sunny', 'Overcast', 'Overcast', 'Sunny', 'Rainy',\n",
        "                'Sunny', 'Overcast', 'Rainy', 'Sunny', 'Sunny', 'Rainy',\n",
        "                'Overcast', 'Overcast'],\n",
        "    'Temperature': ['Hot', 'Hot', 'Mild', 'Cool', 'Cool', 'Cool',\n",
        "                    'Mild', 'Mild', 'Cool', 'Mild', 'Hot', 'Mild',\n",
        "                    'Hot', 'Mild'],\n",
        "    'Play': ['Yes', 'Yes', 'Yes', 'Yes', 'No', 'Yes', 'Yes', 'Yes',\n",
        "             'No', 'No', 'Yes', 'No', 'Yes', 'Yes']\n",
        "}\n",
        "\n",
        "df_two = pd.DataFrame(data_two)\n",
        "\n",
        "# Display the dataset\n",
        "print(\"Two Variable Data:\\n\", df_two)\n"
      ],
      "metadata": {
        "colab": {
          "base_uri": "https://localhost:8080/"
        },
        "id": "zH0_3LX-pNId",
        "outputId": "a8ac0435-0c72-44ad-daaa-298b78d5af08"
      },
      "execution_count": null,
      "outputs": [
        {
          "output_type": "stream",
          "name": "stdout",
          "text": [
            "Two Variable Data:\n",
            "      Outlook Temperature Play\n",
            "0      Rainy         Hot  Yes\n",
            "1      Sunny         Hot  Yes\n",
            "2   Overcast        Mild  Yes\n",
            "3   Overcast        Cool  Yes\n",
            "4      Sunny        Cool   No\n",
            "5      Rainy        Cool  Yes\n",
            "6      Sunny        Mild  Yes\n",
            "7   Overcast        Mild  Yes\n",
            "8      Rainy        Cool   No\n",
            "9      Sunny        Mild   No\n",
            "10     Sunny         Hot  Yes\n",
            "11     Rainy        Mild   No\n",
            "12  Overcast         Hot  Yes\n",
            "13  Overcast        Mild  Yes\n"
          ]
        }
      ]
    },
    {
      "cell_type": "code",
      "source": [],
      "metadata": {
        "id": "Q-7fV1WQpNKz"
      },
      "execution_count": null,
      "outputs": []
    },
    {
      "cell_type": "code",
      "source": [
        "# Step 9: Encode Categorical Variables for Two Variables\n",
        "df_two['Outlook'] = df_two['Outlook'].astype('category').cat.codes\n",
        "df_two['Temperature'] = df_two['Temperature'].astype('category').cat.codes\n",
        "df_two['Play'] = df_two['Play'].astype('category').cat.codes\n",
        "\n",
        "# Display the encoded dataset\n",
        "print(\"Encoded Two Variable Data:\\n\", df_two)\n"
      ],
      "metadata": {
        "colab": {
          "base_uri": "https://localhost:8080/"
        },
        "id": "zMdylz1UpNNE",
        "outputId": "f2566f32-5225-4fdc-848e-33c2222ceb1e"
      },
      "execution_count": null,
      "outputs": [
        {
          "output_type": "stream",
          "name": "stdout",
          "text": [
            "Encoded Two Variable Data:\n",
            "     Outlook  Temperature  Play\n",
            "0         1            1     1\n",
            "1         2            1     1\n",
            "2         0            2     1\n",
            "3         0            0     1\n",
            "4         2            0     0\n",
            "5         1            0     1\n",
            "6         2            2     1\n",
            "7         0            2     1\n",
            "8         1            0     0\n",
            "9         2            2     0\n",
            "10        2            1     1\n",
            "11        1            2     0\n",
            "12        0            1     1\n",
            "13        0            2     1\n"
          ]
        }
      ]
    },
    {
      "cell_type": "code",
      "source": [],
      "metadata": {
        "id": "QH7nl3pvpNO0"
      },
      "execution_count": null,
      "outputs": []
    },
    {
      "cell_type": "code",
      "source": [
        "# Step 10: Train and Test Split for Two Variables\n",
        "X_two = df_two[['Outlook', 'Temperature']]\n",
        "y_two = df_two['Play']\n",
        "\n",
        "X_train_two, X_test_two, y_train_two, y_test_two = train_test_split(X_two, y_two, test_size=0.2, random_state=42)\n"
      ],
      "metadata": {
        "id": "fPvOf2E5pNQ7"
      },
      "execution_count": null,
      "outputs": []
    },
    {
      "cell_type": "code",
      "source": [],
      "metadata": {
        "id": "zbpsPKJppYKz"
      },
      "execution_count": null,
      "outputs": []
    },
    {
      "cell_type": "code",
      "source": [],
      "metadata": {
        "id": "z0wCHex0pYNk"
      },
      "execution_count": null,
      "outputs": []
    },
    {
      "cell_type": "code",
      "source": [
        "# Step 11: Train Naive Bayes Model for Two Variables\n",
        "model_two = GaussianNB()\n",
        "model_two.fit(X_train_two, y_train_two)\n",
        "\n",
        "# Step 12: Make Predictions\n",
        "y_pred_two = model_two.predict(X_test_two)\n",
        "\n",
        "# Step 13: Evaluate Model Performance\n",
        "accuracy_two = accuracy_score(y_test_two, y_pred_two)\n",
        "print(f\"Accuracy for Two Variables: {accuracy_two:.2f}\")\n",
        "\n",
        "# Classification report\n",
        "print(\"\\nClassification Report for Two Variables:\\n\", classification_report(y_test_two, y_pred_two))\n"
      ],
      "metadata": {
        "colab": {
          "base_uri": "https://localhost:8080/"
        },
        "id": "4mAWfZ5RpYQN",
        "outputId": "6a8d74cb-4042-49b8-f35f-b103f6148c84"
      },
      "execution_count": null,
      "outputs": [
        {
          "output_type": "stream",
          "name": "stdout",
          "text": [
            "Accuracy for Two Variables: 0.33\n",
            "\n",
            "Classification Report for Two Variables:\n",
            "               precision    recall  f1-score   support\n",
            "\n",
            "           0       0.00      0.00      0.00         2\n",
            "           1       0.33      1.00      0.50         1\n",
            "\n",
            "    accuracy                           0.33         3\n",
            "   macro avg       0.17      0.50      0.25         3\n",
            "weighted avg       0.11      0.33      0.17         3\n",
            "\n"
          ]
        },
        {
          "output_type": "stream",
          "name": "stderr",
          "text": [
            "/usr/local/lib/python3.10/dist-packages/sklearn/metrics/_classification.py:1531: UndefinedMetricWarning: Precision is ill-defined and being set to 0.0 in labels with no predicted samples. Use `zero_division` parameter to control this behavior.\n",
            "  _warn_prf(average, modifier, f\"{metric.capitalize()} is\", len(result))\n",
            "/usr/local/lib/python3.10/dist-packages/sklearn/metrics/_classification.py:1531: UndefinedMetricWarning: Precision is ill-defined and being set to 0.0 in labels with no predicted samples. Use `zero_division` parameter to control this behavior.\n",
            "  _warn_prf(average, modifier, f\"{metric.capitalize()} is\", len(result))\n",
            "/usr/local/lib/python3.10/dist-packages/sklearn/metrics/_classification.py:1531: UndefinedMetricWarning: Precision is ill-defined and being set to 0.0 in labels with no predicted samples. Use `zero_division` parameter to control this behavior.\n",
            "  _warn_prf(average, modifier, f\"{metric.capitalize()} is\", len(result))\n"
          ]
        }
      ]
    },
    {
      "cell_type": "code",
      "source": [
        "# Step 14: Visualize Results\n",
        "plt.figure(figsize=(10, 5))\n",
        "\n",
        "# Single Variable\n",
        "plt.subplot(1, 2, 1)\n",
        "sns.countplot(x='Play', data=df_single, palette='viridis')\n",
        "plt.title('Play Distribution (Single Variable)')\n",
        "\n",
        "# Two Variables\n",
        "plt.subplot(1, 2, 2)\n",
        "sns.countplot(x='Play', data=df_two, palette='viridis')\n",
        "plt.title('Play Distribution (Two Variables)')\n",
        "\n",
        "plt.tight_layout()\n",
        "plt.show()\n"
      ],
      "metadata": {
        "colab": {
          "base_uri": "https://localhost:8080/",
          "height": 681
        },
        "id": "VhJiuRvWoevh",
        "outputId": "0a009617-dc0f-433c-cfd1-2a9fbfc7be66"
      },
      "execution_count": null,
      "outputs": [
        {
          "output_type": "stream",
          "name": "stderr",
          "text": [
            "<ipython-input-10-355c909b4d1e>:6: FutureWarning: \n",
            "\n",
            "Passing `palette` without assigning `hue` is deprecated and will be removed in v0.14.0. Assign the `x` variable to `hue` and set `legend=False` for the same effect.\n",
            "\n",
            "  sns.countplot(x='Play', data=df_single, palette='viridis')\n",
            "<ipython-input-10-355c909b4d1e>:11: FutureWarning: \n",
            "\n",
            "Passing `palette` without assigning `hue` is deprecated and will be removed in v0.14.0. Assign the `x` variable to `hue` and set `legend=False` for the same effect.\n",
            "\n",
            "  sns.countplot(x='Play', data=df_two, palette='viridis')\n"
          ]
        },
        {
          "output_type": "display_data",
          "data": {
            "text/plain": [
              "<Figure size 1000x500 with 2 Axes>"
            ],
            "image/png": "[encoded data removed]"
          },
          "metadata": {}
        }
      ]
    },
    {
      "cell_type": "code",
      "source": [],
      "metadata": {
        "id": "uBjaux8coeyp"
      },
      "execution_count": null,
      "outputs": []
    }
  ]
}